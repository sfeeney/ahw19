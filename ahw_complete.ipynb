{
 "cells": [
  {
   "cell_type": "markdown",
   "metadata": {},
   "source": [
    "# Bayesian Modeling\n",
    "\n",
    "This jupyter notebook accompanies the Bayesian Modeling lecture(s) delivered by Justin Alsing and Stephen Feeney as part of [Astro Hack Week 2019](http://astrohackweek.org/2019/). As part of the lecture(s) you will be asked to complete a number of tasks, some of which will involve direct coding into the notebook; these sections are marked by task. This notebook requires numpy, matplotlib, scipy, [corner](https://corner.readthedocs.io/en/latest/), [pystan](https://pystan.readthedocs.io/en/latest/getting_started.html) and pickle to run (the last two are required solely for the final task). If you don't have these packages fret not: the notebook can be run on [Google Colab](https://colab.research.google.com/github/sfeeney/ahw19/blob/master/ahw_complete.ipynb).\n",
    "\n",
    "We start with imports..."
   ]
  },
  {
   "cell_type": "code",
   "execution_count": 1,
   "metadata": {},
   "outputs": [],
   "source": [
    "from __future__ import print_function\n",
    "\n",
    "# make sure everything we need is installed if running on Google Colab\n",
    "def is_colab():\n",
    "    try:\n",
    "        cfg = get_ipython().config\n",
    "        if cfg['IPKernelApp']['kernel_class'] == 'google.colab._kernel.Kernel':\n",
    "            return True\n",
    "        else:\n",
    "            return False\n",
    "    except NameError:\n",
    "        return False\n",
    "if is_colab():\n",
    "    !pip install --quiet numpy matplotlib scipy corner pystan\n",
    "\n",
    "import numpy as np\n",
    "import numpy.random as npr\n",
    "import matplotlib.pyplot as mp\n",
    "import scipy.stats as sps\n",
    "%matplotlib inline"
   ]
  },
  {
   "cell_type": "markdown",
   "metadata": {},
   "source": [
    "## Task 1\n",
    "\n",
    "Write a Python function simulating a very simple linear process observed at known positions $x$ with Gaussian measurement noise: $\\hat{y} = m x + c + n$, where $n \\sim N(0, \\sigma^2)$."
   ]
  },
  {
   "cell_type": "code",
   "execution_count": 8,
   "metadata": {},
   "outputs": [],
   "source": [
    "# prior settings\n",
    "mu_slope = 1.0\n",
    "sig_slope = 0.1\n",
    "mu_intcpt = 0.0\n",
    "sig_intcpt = 0.05\n",
    "mu_var_noise = 0.02\n",
    "var_var_noise = mu_var_noise ** 2 / 9.0\n",
    "shape_var_noise = mu_var_noise ** 2 / var_var_noise + 2.0\n",
    "scale_var_noise = mu_var_noise * (mu_var_noise ** 2 / var_var_noise + 1.0)\n",
    "\n",
    "# super-simple wrapper\n",
    "def x_grid(n_x, x_min=0.0, x_max=1.0):\n",
    "    \n",
    "    return np.linspace(x_min, x_max, n_x)"
   ]
  },
  {
   "cell_type": "code",
   "execution_count": 9,
   "metadata": {},
   "outputs": [],
   "source": [
    "# draw sample from parameter prior\n",
    "def sample_prior(mu_slope, sig_slope, mu_intcpt, sig_intcpt):\n",
    "    \n",
    "    pars = np.zeros(2)\n",
    "    pars[0] = npr.normal(mu_slope, sig_slope)\n",
    "    pars[1] = npr.normal(mu_intcpt, sig_intcpt)\n",
    "    \n",
    "    return pars\n",
    "\n",
    "# generate noisy data given parameters\n",
    "def sample_data(x, pars, var_noise):\n",
    "    \n",
    "    y = pars[0] * x + pars[1] + npr.normal(0.0, np.sqrt(var_noise), len(x))\n",
    "    \n",
    "    return y\n",
    "\n",
    "# most basic simulator function: noisy measurements at known locations\n",
    "def simulator(x, mu_slope, sig_slope, mu_intcpt, sig_intcpt, var_noise):\n",
    "    \n",
    "    # draw parameters from prior\n",
    "    pars = sample_prior(mu_slope, sig_slope, mu_intcpt, sig_intcpt)\n",
    "    \n",
    "    # generate data\n",
    "    y = sample_data(x, pars, var_noise)\n",
    "    \n",
    "    return [pars, y]\n",
    "\n",
    "# draw sample from parameter prior\n",
    "def sample_prior_nv(mu_slope, sig_slope, mu_intcpt, sig_intcpt, shape_var_noise, scale_var_noise):\n",
    "    \n",
    "    pars = np.zeros(3)\n",
    "    pars[0] = npr.normal(mu_slope, sig_slope)\n",
    "    pars[1] = npr.normal(mu_intcpt, sig_intcpt)\n",
    "    pars[2] = 1.0 / npr.gamma(shape_var_noise, 1.0 / scale_var_noise)\n",
    "    \n",
    "    return pars\n",
    "\n",
    "# generate noisy data given parameters\n",
    "def sample_data_nv(x, pars):\n",
    "    \n",
    "    y = pars[0] * x + pars[1] + npr.normal(0.0, np.sqrt(pars[2]), len(x))\n",
    "    \n",
    "    return y\n",
    "\n",
    "# more advanced simulator function: noisy measurements at known locations with unknown noise variance\n",
    "def simulator_nv(x, mu_slope, sig_slope, mu_intcpt, sig_intcpt, shape_var_noise, scale_var_noise):\n",
    "    \n",
    "    # draw parameters from prior\n",
    "    pars = sample_prior_nv(mu_slope, sig_slope, mu_intcpt, sig_intcpt)\n",
    "    \n",
    "    # generate data\n",
    "    y = sample_data_nv(x, pars)\n",
    "    \n",
    "    return [pars, y]"
   ]
  },
  {
   "cell_type": "markdown",
   "metadata": {},
   "source": [
    "Let's put together some quick checks that everything's working as planned. First, plot some draws from the prior..."
   ]
  },
  {
   "cell_type": "code",
   "execution_count": 10,
   "metadata": {},
   "outputs": [
    {
     "name": "stdout",
     "output_type": "stream",
     "text": [
      "parameter means & standard deviations\n",
      "* m\n",
      "  reals:   1.0003807821557449 0.10103056978013386\n",
      "  theory:  1.0 0.1\n",
      "* c\n",
      "  reals:   0.0005964905355898469 0.05002803966084192\n",
      "  theory:  0.0 0.05\n"
     ]
    },
    {
     "data": {
      "image/png": "[encoded data removed]",
      "text/plain": [
       "<Figure size 864x360 with 2 Axes>"
      ]
     },
     "metadata": {
      "needs_background": "light"
     },
     "output_type": "display_data"
    }
   ],
   "source": [
    "# lots of draws from priors\n",
    "pars = []\n",
    "for i in range(10000):\n",
    "    pars.append(sample_prior(mu_slope, sig_slope, mu_intcpt, sig_intcpt))\n",
    "pars = np.array(pars)\n",
    "par_names = [r'm', r'c']\n",
    "\n",
    "# plot versus expectations\n",
    "print('parameter means & standard deviations')\n",
    "fig, axes = mp.subplots(1, 2, figsize=(12, 5))\n",
    "for i in range(2):\n",
    "    print('*', par_names[i])\n",
    "    print('  reals:  ', np.mean(pars[:, i]), np.std(pars[:, i]))\n",
    "    _ = axes[i].hist(pars[:, i], bins=30, density=True)\n",
    "    par_lims = axes[i].get_xlim()\n",
    "    par_grid = np.linspace(par_lims[0], par_lims[1], 100)\n",
    "    axes[i].set_xlabel('$' + par_names[i] + '$')\n",
    "    axes[i].set_ylabel(r'${\\rm P(}' + par_names[i] + ')$')\n",
    "    if i == 0:\n",
    "        print('  theory: ', mu_slope, sig_slope)\n",
    "        axes[i].plot(par_grid, sps.norm.pdf(par_grid, mu_slope, sig_slope))\n",
    "    elif i == 1:\n",
    "        print('  theory: ', mu_intcpt, sig_intcpt)\n",
    "        axes[i].plot(par_grid, sps.norm.pdf(par_grid, mu_intcpt, sig_intcpt))"
   ]
  },
  {
   "cell_type": "markdown",
   "metadata": {},
   "source": [
    "... and now some simulated data to check noise distribution."
   ]
  },
  {
   "cell_type": "code",
   "execution_count": 12,
   "metadata": {},
   "outputs": [
    {
     "name": "stdout",
     "output_type": "stream",
     "text": [
      "noise mean & standard deviation\n",
      "  reals:   -0.0011924796372443673 0.14234290847054817\n",
      "  theory:  0.0 0.1414213562373095\n"
     ]
    },
    {
     "data": {
      "image/png": "[encoded data removed]",
      "text/plain": [
       "<Figure size 864x360 with 2 Axes>"
      ]
     },
     "metadata": {
      "needs_background": "light"
     },
     "output_type": "display_data"
    }
   ],
   "source": [
    "# draw a large data realization with fixed noise variance\n",
    "x = x_grid(10000)\n",
    "pars, y = simulator(x, mu_slope, sig_slope, mu_intcpt, sig_intcpt, mu_var_noise)\n",
    "noise = y - (pars[0] * x + pars[1])\n",
    "\n",
    "# plot noise histogram versus expectation\n",
    "fig, axes = mp.subplots(1, 2, figsize=(12, 5))\n",
    "axes[0].plot(x, y)\n",
    "axes[0].plot(x, pars[0] * x + pars[1])\n",
    "axes[0].set_xlabel('$x$')\n",
    "axes[0].set_ylabel('$y$')\n",
    "_ = axes[1].hist(noise, bins=30, density=True)\n",
    "par_lims = axes[1].get_xlim()\n",
    "par_grid = np.linspace(par_lims[0], par_lims[1], 100)\n",
    "axes[1].plot(par_grid, sps.norm.pdf(par_grid, 0.0, np.sqrt(mu_var_noise)))\n",
    "axes[1].set_xlabel('$n$')\n",
    "axes[1].set_ylabel(r'${\\rm P(}n)$')\n",
    "print('noise mean & standard deviation')\n",
    "print('  reals:  ', np.mean(noise), np.std(noise))\n",
    "print('  theory: ', 0.0, np.sqrt(mu_var_noise))"
   ]
  },
  {
   "cell_type": "code",
   "execution_count": null,
   "metadata": {},
   "outputs": [],
   "source": [
    "# hacky way of drawing from priors\n",
    "x = x_grid(2)\n",
    "pars = []\n",
    "for i in range(10000):\n",
    "    p, y = lin_proc_noisy_y(x)\n",
    "    pars.append(p)\n",
    "pars = np.array(pars)\n",
    "par_names = [r'm', r'c', r'\\sigma_{\\rm noise}^2']\n",
    "\n",
    "# plot versus expectations\n",
    "print('parameter means & standard deviations')\n",
    "fig, axes = mp.subplots(1, 3, figsize=(16, 5))\n",
    "for i in range(3):\n",
    "    print('*', par_names[i])\n",
    "    print('  reals:  ', np.mean(pars[:, i]), np.std(pars[:, i]))\n",
    "    _ = axes[i].hist(pars[:, i], bins=30, density=True)\n",
    "    par_lims = axes[i].get_xlim()\n",
    "    par_grid = np.linspace(par_lims[0], par_lims[1], 100)\n",
    "    axes[i].set_xlabel('$' + par_names[i] + '$')\n",
    "    axes[i].set_ylabel(r'${\\rm P(}' + par_names[i] + ')$')\n",
    "    if i == 0:\n",
    "        print('  theory: ', mu_slope, sig_slope)\n",
    "        axes[i].plot(par_grid, sps.norm.pdf(par_grid, mu_slope, sig_slope))\n",
    "    elif i == 1:\n",
    "        print('  theory: ', mu_intcpt, sig_intcpt)\n",
    "        axes[i].plot(par_grid, sps.norm.pdf(par_grid, mu_intcpt, sig_intcpt))\n",
    "    elif i == 2:\n",
    "        print('  theory: ', mu_var_noise, np.sqrt(var_var_noise))\n",
    "        axes[i].plot(par_grid, sps.invgamma.pdf(par_grid, shape_var_noise, scale=scale_var_noise))"
   ]
  },
  {
   "cell_type": "code",
   "execution_count": null,
   "metadata": {},
   "outputs": [],
   "source": [
    "# draw a larger data realization\n",
    "x = x_grid(1000)\n",
    "pars, y = lin_proc_noisy_y(x)\n",
    "noise = y - (pars[0] * x + pars[1])\n",
    "\n",
    "# plot noise histogram versus expectation\n",
    "fig, axes = mp.subplots(1, 2, figsize=(12, 5))\n",
    "axes[0].plot(x, y)\n",
    "axes[0].plot(x, pars[0] * x + pars[1])\n",
    "axes[0].set_xlabel('$x$')\n",
    "axes[0].set_ylabel('$y$')\n",
    "_ = axes[1].hist(noise, bins=30, density=True)\n",
    "par_lims = axes[1].get_xlim()\n",
    "par_grid = np.linspace(par_lims[0], par_lims[1], 100)\n",
    "axes[1].plot(par_grid, sps.norm.pdf(par_grid, 0.0, np.sqrt(pars[2])))\n",
    "axes[1].set_xlabel('$n$')\n",
    "axes[1].set_ylabel(r'${\\rm P(}n)$')\n",
    "print('noise mean & standard deviation')\n",
    "print('  reals:  ', np.mean(noise), np.std(noise))\n",
    "print('  theory: ', 0.0, np.sqrt(pars[2]))"
   ]
  },
  {
   "cell_type": "markdown",
   "metadata": {},
   "source": [
    "## Task 2\n",
    "\n",
    "Code up the gridded posterior. Let's split this into two parts. First, write three functions evaluating the log-likelihood, log-prior and log-posterior for a set of sampled parameters. These will be very useful in the future."
   ]
  },
  {
   "cell_type": "code",
   "execution_count": 14,
   "metadata": {},
   "outputs": [],
   "source": [
    "def ln_like(pars, x, y, var_noise):\n",
    "    delta = y - (pars[0] * x + pars[1])\n",
    "    cinv = np.diag(np.ones(len(x)) / var_noise)\n",
    "    return -0.5 * np.dot(np.dot(delta, cinv), delta)\n",
    "\n",
    "def ln_prior(pars, mu_slope, sig_slope, mu_intcpt, sig_intcpt):\n",
    "    return -0.5 * (((pars[0] - mu_slope) / sig_slope) ** 2 + ((pars[1] - mu_intcpt) / sig_intcpt) ** 2)\n",
    "\n",
    "def ln_post(pars, x, y, var_noise, mu_slope, sig_slope, mu_intcpt, sig_intcpt):\n",
    "    return ln_like(pars, x, y, var_noise) + \\\n",
    "           ln_prior(pars, mu_slope, sig_slope, mu_intcpt, sig_intcpt)"
   ]
  },
  {
   "cell_type": "markdown",
   "metadata": {},
   "source": [
    "Now evaluate the posterior on a grid of parameters."
   ]
  },
  {
   "cell_type": "code",
   "execution_count": null,
   "metadata": {},
   "outputs": [],
   "source": [
    "# generate a smaller data realization\n",
    "x = x_grid(100)\n",
    "pars, y = simulator(x, mu_slope, sig_slope, mu_intcpt, sig_intcpt, mu_var_noise)\n",
    "\n",
    "# and calculate its parameter posterior on a grid\n",
    "n_grid = 100\n",
    "slope_grid = np.linspace(mu_slope - 3.0 * sig_slope, mu_slope + 3.0 * sig_slope, n_grid+1)\n",
    "intcpt_grid = np.linspace(mu_intcpt - 3.0 * sig_intcpt, mu_intcpt + 3.0 * sig_intcpt, n_grid)\n",
    "post = np.zeros((n_grid+1, n_grid))\n",
    "for i in range(n_grid+1):\n",
    "    for j in range(n_grid):\n",
    "        post[i, j] = np.exp(ln_post([slope_grid[i], intcpt_grid[j]], x, y, mu_var_noise, mu_slope, \\\n",
    "                                    sig_slope, mu_intcpt, sig_intcpt))"
   ]
  },
  {
   "cell_type": "markdown",
   "metadata": {},
   "source": [
    "Now plot the joint posterior and the two one-dimensional marginal distributions."
   ]
  },
  {
   "cell_type": "code",
   "execution_count": 109,
   "metadata": {},
   "outputs": [
    {
     "data": {
      "image/png": "[encoded data removed]",
      "text/plain": [
       "<Figure size 576x576 with 3 Axes>"
      ]
     },
     "metadata": {
      "needs_background": "light"
     },
     "output_type": "display_data"
    }
   ],
   "source": [
    "# plot joint and marginal posteriors\n",
    "fig, axes = mp.subplots(2, 2, figsize=(8, 8))\n",
    "levels = np.array([0.011109, 0.13533528, 0.60653066]) * np.max(post)\n",
    "axes[0, 0].plot(slope_grid, np.sum(post, axis=1), color='k')\n",
    "axes[1, 1].plot(intcpt_grid, np.sum(post, axis=0), color='k')\n",
    "axes[1, 0].contour(slope_grid, intcpt_grid, post.T, levels=levels, colors='k')\n",
    "\n",
    "# prettify\n",
    "axes[0, 0].axvline(pars[0])\n",
    "axes[0, 0].set_xticklabels([])\n",
    "axes[0, 0].set_yticklabels([])\n",
    "axes[0, 0].set_xlim(axes[1, 0].get_xlim())\n",
    "axes[1, 0].axvline(pars[0])\n",
    "axes[1, 0].axhline(pars[1])\n",
    "axes[1, 0].set_xlabel(par_names[0])\n",
    "axes[1, 0].set_ylabel(par_names[1])\n",
    "axes[1, 1].set_xlim(axes[1, 0].get_ylim())\n",
    "axes[1, 1].axvline(pars[1])\n",
    "axes[1, 1].set_yticklabels([])\n",
    "axes[1, 1].set_xlabel(par_names[1])\n",
    "fig.delaxes(axes[0, 1])\n",
    "fig.subplots_adjust(hspace=0, wspace=0)"
   ]
  },
  {
   "cell_type": "code",
   "execution_count": null,
   "metadata": {},
   "outputs": [],
   "source": []
  },
  {
   "cell_type": "markdown",
   "metadata": {},
   "source": [
    "In order to plot the outputs of the GLS fit we could draw a large number of samples from the resulting multivariate Gaussian posterior and pass them to something like [`corner`](https://corner.readthedocs.io/en/latest/); however, as we have analytic results we might as well use those directly. I've coded up something totally hacky here in order to do so, and included it in the cell below. Information on how to draw confidence ellipses can be found in [Dan Coe's note](https://arxiv.org/pdf/0906.4123.pdf)."
   ]
  },
  {
   "cell_type": "code",
   "execution_count": null,
   "metadata": {},
   "outputs": [],
   "source": [
    "# posteriors\n",
    "import matplotlib.patches as mpp\n",
    "def schmorner(par_mean, par_cov, par_true, par_label):\n",
    "    \n",
    "    # setup\n",
    "    par_std = np.sqrt(np.diag(par_cov))\n",
    "    x_min = par_mean[0] - 3.5 * par_std[0]\n",
    "    x_max = par_mean[0] + 3.5 * par_std[0]\n",
    "    y_min = par_mean[1] - 3.5 * par_std[1]\n",
    "    y_max = par_mean[1] + 3.5 * par_std[1]\n",
    "    fig, axes = mp.subplots(2, 2)\n",
    "    \n",
    "    # 1D marge\n",
    "    x = np.linspace(x_min, x_max, 100)\n",
    "    axes[0, 0].plot(x, sps.norm.pdf(x, par_mean[0], par_std[0]), 'k')\n",
    "    axes[0, 0].axvline(par_true[0])\n",
    "    axes[1, 0].axvline(par_true[0])\n",
    "    axes[0, 0].set_xticklabels([])\n",
    "    axes[0, 0].set_yticklabels([])\n",
    "    axes[0, 0].set_xlim(x_min, x_max)\n",
    "    axes[0, 0].set_title(par_label[0])\n",
    "    axes[0, 0].set_title(par_label[0] + r'$=' + '{:7.3f}'.format(par_mean[0]) + \\\n",
    "                         r'\\pm' + '{:5.3f}'.format(par_std[0]) + r'$')\n",
    "    y = np.linspace(y_min, y_max, 100)\n",
    "    axes[1, 1].plot(y, sps.norm.pdf(y, par_mean[1], par_std[1]), 'k')\n",
    "    axes[1, 0].axhline(par_true[1])\n",
    "    axes[1, 1].axvline(par_true[1])\n",
    "    axes[1, 1].tick_params(labelleft=False)\n",
    "    axes[1, 1].set_xlim(y_min, y_max)\n",
    "    axes[1, 1].set_xlabel(par_label[1])\n",
    "    for tick in axes[1, 1].get_xticklabels():\n",
    "        tick.set_rotation(45)\n",
    "    axes[1, 1].set_title(par_label[1] + r'$=' + '{:6.3f}'.format(par_mean[1]) + \\\n",
    "                         r'\\pm' + '{:5.3f}'.format(par_std[1]) + r'$')\n",
    "\n",
    "    # 2D marge\n",
    "    vals, vecs = np.linalg.eig(par_cov)\n",
    "    theta = np.degrees(np.arctan2(*vecs[::-1, 0]))\n",
    "    w, h = 2 * np.sqrt(vals)\n",
    "    ell = mpp.Ellipse(xy=par_mean, width=w, height=h,\n",
    "                      angle=theta, color='k')\n",
    "    ell.set_facecolor(\"none\")\n",
    "    axes[1, 0].add_artist(ell)\n",
    "    ell = mpp.Ellipse(xy=par_mean, width=2*w, height=2*h,\n",
    "                      angle=theta, color='k')\n",
    "    ell.set_facecolor(\"none\")\n",
    "    axes[1, 0].add_artist(ell)\n",
    "    axes[1, 0].set_xlim(x_min, x_max)\n",
    "    axes[1, 0].set_ylim(y_min, y_max)\n",
    "    for tick in axes[1, 0].get_xticklabels():\n",
    "        tick.set_rotation(45)\n",
    "    for tick in axes[1, 0].get_yticklabels():\n",
    "        tick.set_rotation(45)\n",
    "    axes[1, 0].set_xlabel(par_label[0])\n",
    "    axes[1, 0].set_ylabel(par_label[1])\n",
    "    fig.delaxes(axes[0, 1])\n",
    "    fig.subplots_adjust(hspace=0, wspace=0)"
   ]
  },
  {
   "cell_type": "code",
   "execution_count": null,
   "metadata": {
    "scrolled": true
   },
   "outputs": [],
   "source": [
    "# perform GLS fit for simulated data and plot results!\n",
    "gls_pars, gls_pars_cov, gls_chisq = gls_fit(x, y, pars[2])\n",
    "test = schmorner(gls_pars, gls_pars_cov, pars[0: 2], par_names[0: 2])"
   ]
  },
  {
   "cell_type": "markdown",
   "metadata": {},
   "source": [
    "## Metropolis-Hastings Sampling\n",
    "\n",
    "The Metropolis-Hastings algorithm is a particularly simple and hence extremely broadly employed Markov-Chain Monte Carlo (MCMC) technique for obtaining samples from a posterior. All this algorithm requires is the ability to evaluate the posterior at any point in parameter space (up to any parameter-independent constants such as the *evidence*), along with a distribution from which to propose movements in parameter space. It is therefore typically the first option considered for settings in which the posterior moments can not be calculated analytically.\n",
    "\n",
    "The next task is to write down this sampler for our simplest setting: estimating the joint posterior of the slope and intercept, assuming the noise variance is known. Let's split this into two parts, First, write three functions evaluating the log-likelihood, log-prior and log-posterior for a set of sampled parameters. These will be very useful in the future."
   ]
  },
  {
   "cell_type": "code",
   "execution_count": null,
   "metadata": {},
   "outputs": [],
   "source": [
    "def ln_like(pars, x, y, var_noise):\n",
    "    delta = y - (pars[0] * x + pars[1])\n",
    "    cinv = np.diag(np.ones(len(x)) / var_noise)\n",
    "    return -0.5 * np.dot(np.dot(delta, cinv), delta)\n",
    "\n",
    "def ln_prior(pars, mu_slope, sig_slope, mu_intcpt, sig_intcpt):\n",
    "    return -0.5 * (((pars[0] - mu_slope) / sig_slope) ** 2 + ((pars[1] - mu_intcpt) / sig_intcpt) ** 2)\n",
    "\n",
    "def ln_post(pars, x, y, var_noise, mu_slope, sig_slope, mu_intcpt, sig_intcpt):\n",
    "    return ln_like(pars, x, y, var_noise) + \\\n",
    "           ln_prior(pars, mu_slope, sig_slope, mu_intcpt, sig_intcpt)"
   ]
  },
  {
   "cell_type": "markdown",
   "metadata": {},
   "source": [
    "Next, write the sampler itself: choose a random starting point, then propose a move in parameter space and accept it with the appropriate probability. This requires a proposal distribution. Let's use a multivariate normal, centred on the current sample, with a user-specified covariance matrix."
   ]
  },
  {
   "cell_type": "code",
   "execution_count": 104,
   "metadata": {},
   "outputs": [],
   "source": [
    "def mh_sampler(n_samples, x, y, var_noise, mu_slope, sig_slope, mu_intcpt, sig_intcpt, prop_cov):\n",
    "    \n",
    "    # setup\n",
    "    samples = np.zeros((n_samples, 2))\n",
    "    ln_posts = np.zeros(n_samples)\n",
    "    \n",
    "    # draw random starting point from prior\n",
    "    samples[0, :] = sample_prior(mu_slope, sig_slope, mu_intcpt, sig_intcpt)\n",
    "    ln_posts[0] = ln_post(samples[0, :], x, y, var_noise, mu_slope, sig_slope, mu_intcpt, sig_intcpt)\n",
    "    \n",
    "    # MH algorithm\n",
    "    for i in range(n_samples - 1):\n",
    "        \n",
    "        # propose new point in parameter space\n",
    "        proposal = npr.multivariate_normal(samples[i, :], prop_cov)\n",
    "        \n",
    "        # calculate acceptance probability:\n",
    "        ln_post_prop = ln_post(proposal, x, y, var_noise, mu_slope, sig_slope, mu_intcpt, sig_intcpt)\n",
    "        ratio = np.exp(ln_post_prop - ln_posts[i])\n",
    "        \n",
    "        # accept or reject?\n",
    "        if ratio >= npr.rand():\n",
    "            samples[i + 1, :] = proposal\n",
    "            ln_posts[i + 1] = ln_post_prop\n",
    "        else:\n",
    "            samples[i + 1, :] = samples[i, :]\n",
    "            ln_posts[i + 1] = ln_posts[i]\n",
    "    \n",
    "    return samples, ln_posts"
   ]
  },
  {
   "cell_type": "markdown",
   "metadata": {},
   "source": [
    "Now let's run the sampler on the simulated data we've generated! To do so, we need to pick a proposal covariance. Let's pick something very simple (and therefore suboptimal): a diagonal matrix with $\\sigma$ = 0.02."
   ]
  },
  {
   "cell_type": "code",
   "execution_count": 105,
   "metadata": {},
   "outputs": [],
   "source": [
    "prop_cov = np.eye(2) * 0.02 ** 2\n",
    "npr.seed(12345)\n",
    "samples, ln_posts = mh_sampler(50000, x, y, mu_var_noise, mu_slope, sig_slope, mu_intcpt, sig_intcpt, prop_cov)"
   ]
  },
  {
   "cell_type": "markdown",
   "metadata": {},
   "source": [
    "Create a 2D plot showing the samples (the Markov chain) generated. Note the *burn-in* period, in which the sampler hones in on the region of appreciable posterior density from its initial random position. We can discard these samples when estimating the properties of the posterior. Add a so-called *trace plot* of the slope samples showing how the sampler generates correlated samples. Reducing this correlation would result in a (potentially significantly) more efficient sampler."
   ]
  },
  {
   "cell_type": "code",
   "execution_count": 106,
   "metadata": {},
   "outputs": [
    {
     "data": {
      "text/plain": [
       "Text(0,0.5,'m')"
      ]
     },
     "execution_count": 106,
     "metadata": {},
     "output_type": "execute_result"
    },
    {
     "data": {
      "image/png": "[encoded data removed]",
      "text/plain": [
       "<Figure size 864x360 with 2 Axes>"
      ]
     },
     "metadata": {
      "needs_background": "light"
     },
     "output_type": "display_data"
    }
   ],
   "source": [
    "fig, axes = mp.subplots(1, 2, figsize=(12, 5))\n",
    "axes[0].plot(samples[:, 0], samples[:, 1])\n",
    "axes[0].set_xlabel(par_names[0])\n",
    "axes[0].set_ylabel(par_names[1])\n",
    "axes[1].plot(samples[:, 0])\n",
    "axes[1].set_xlabel('sample number')\n",
    "axes[1].set_ylabel(par_names[0])"
   ]
  },
  {
   "cell_type": "markdown",
   "metadata": {},
   "source": [
    "Now let's generate some marginalized parameter posteriors (by simply discarding all samples of the latent parameters) using DFM's [`corner`](https://corner.readthedocs.io/en/latest/) package. Note the near identical nature of this plot to the `schmorner` plot we generated above."
   ]
  },
  {
   "cell_type": "code",
   "execution_count": 107,
   "metadata": {},
   "outputs": [
    {
     "data": {
      "image/png": "[encoded data removed]",
      "text/plain": [
       "<Figure size 396x396 with 4 Axes>"
      ]
     },
     "metadata": {
      "needs_background": "light"
     },
     "output_type": "display_data"
    }
   ],
   "source": [
    "import corner\n",
    "n_burnin = 100\n",
    "final_samples = samples[n_burnin:, :]\n",
    "par_names_co = ['$' + par_name + '$' for par_name in par_names]\n",
    "fig = corner.corner(final_samples, labels=par_names_co[0: 2], show_titles=True, truths=pars[0: 2])"
   ]
  },
  {
   "cell_type": "markdown",
   "metadata": {},
   "source": [
    "There are many ways to play around with this simple sampler. Let's do a quick demonstration of the importance of the proposal distribution. For our chosen proposal, the covariance matrix tells the sampler how to try stepping around the posterior. The efficiency of this process strongly depends on how closely the proposal distribution matches the target posterior.\n",
    "\n",
    "Try out a couple of other choices for the proposal--one larger and one smaller than the current value--and see how the sampler performs. Plotting both the 2D samples and the slope trace plot will help us investigate the sampler's behaviour."
   ]
  },
  {
   "cell_type": "code",
   "execution_count": null,
   "metadata": {},
   "outputs": [],
   "source": [
    "n_samples = 10000\n",
    "sig_props = np.array([0.002, 0.2])\n",
    "samples = np.zeros((n_samples, 2, 2))\n",
    "fig, axes = mp.subplots(1, 2, figsize=(12, 5))\n",
    "for i in range(2):\n",
    "    npr.seed(12345)\n",
    "    prop_cov = np.eye(2) * sig_props[i] ** 2\n",
    "    samples[:, :, i], ln_posts = mh_sampler(n_samples, x, y, pars[2], mu_slope, sig_slope, mu_intcpt, \\\n",
    "                                            sig_intcpt, prop_cov)\n",
    "    axes[0].plot(samples[:, 0, i], samples[:, 1, i], label=r'$\\sigma_{\\rm prop}$'+'={:5.3f}'.format(sig_props[i]))\n",
    "    axes[1].plot(samples[:, 0, i], label=r'$\\sigma_{\\rm prop}$'+'={:5.3f}'.format(sig_props[i]))\n",
    "axes[0].set_xlabel(par_names[0])\n",
    "axes[0].set_ylabel(par_names[1])\n",
    "axes[0].legend(loc='upper right')\n",
    "axes[1].set_xlabel('sample number')\n",
    "axes[1].set_ylabel(par_names[0])\n",
    "axes[1].legend(loc='upper right')"
   ]
  },
  {
   "cell_type": "markdown",
   "metadata": {},
   "source": [
    "If the proposal $\\sigma$ is too small, the sampler makes very small steps around the posterior, producing highly correlated samples. If $\\sigma$ is too large, the sampler rejects most proposals, remaining stationary most of the time. In both cases the sampler is inefficient, taking an unnecessarily large number of samples to explore the posterior. Tuning the proposal is therefore an integral part of the MH algorithm."
   ]
  },
  {
   "cell_type": "markdown",
   "metadata": {},
   "source": [
    "Another change we can explore is to add another parameter and estimate the noise variance as we infer the slope and intercept. Adapt our existing code to extend the inference below. Note that we must rewrite both our likelihood and prior functions in this case: the latter for obvious reasons; the former because we previously dropped the $\\sigma_{\\rm noise}$-dependent determinant term. We must also complicate them a little, as we need to gracefully handle the sampler proposing negative (i.e., forbidden) values for the variance. We can do so by checking the proposed parameters (e.g., `if pars[2] <= 0.0`) or the outputs of the likelihood and prior functions (which is perhaps a more general check) and returning a large negative log-probability if a problem was found."
   ]
  },
  {
   "cell_type": "code",
   "execution_count": null,
   "metadata": {},
   "outputs": [],
   "source": [
    "def ln_like_nv(pars, x, y):\n",
    "    \n",
    "    ln_sqrt_det = -0.5 * len(x) * np.log(pars[2])\n",
    "    \n",
    "    return ln_like(pars[0: 2], x, y, pars[2]) + ln_sqrt_det\n",
    "\n",
    "def ln_prior_nv(pars, mu_slope, sig_slope, mu_intcpt, sig_intcpt, shape_var_noise, scale_var_noise):\n",
    "    \n",
    "    ln_prior_reg = ln_prior(pars[0: 2], mu_slope, sig_slope, mu_intcpt, sig_intcpt)\n",
    "    ln_prior_noise = (-shape_var_noise - 1.0) * np.log(pars[2]) - scale_var_noise / pars[2]\n",
    "    \n",
    "    return ln_prior_reg + ln_prior_noise\n",
    "\n",
    "def ln_post_nv(pars, x, y, mu_slope, sig_slope, mu_intcpt, sig_intcpt, shape_var_noise, scale_var_noise):\n",
    "    \n",
    "    if pars[2] <= 0.0:\n",
    "        return -1.0e90\n",
    "    else:\n",
    "        return ln_like_nv(pars, x, y) + \\\n",
    "               ln_prior_nv(pars, mu_slope, sig_slope, mu_intcpt, sig_intcpt, shape_var_noise, scale_var_noise)\n",
    "\n",
    "def prior_sample_nv(mu_slope, sig_slope, mu_intcpt, sig_intcpt, shape_var_noise, \\\n",
    "                    scale_var_noise):\n",
    "    \n",
    "    sample = np.zeros(3)\n",
    "    sample[0: 2] = prior_sample(mu_slope, sig_slope, mu_intcpt, sig_intcpt)\n",
    "    sample[2] = 1.0 / npr.gamma(shape_var_noise, 1.0 / scale_var_noise)\n",
    "    \n",
    "    return sample\n",
    "\n",
    "def mh_sampler_nv(n_samples, x, y, mu_slope, sig_slope, mu_intcpt, sig_intcpt, shape_var_noise, \\\n",
    "                  scale_var_noise, prop_cov):\n",
    "    \n",
    "    # setup\n",
    "    samples = np.zeros((n_samples, 3))\n",
    "    ln_posts = np.zeros(n_samples)\n",
    "    \n",
    "    # draw random starting point from prior\n",
    "    samples[0, :] = prior_sample_nv(mu_slope, sig_slope, mu_intcpt, sig_intcpt, shape_var_noise, \\\n",
    "                                    scale_var_noise)\n",
    "    ln_posts[0] = ln_post_nv(samples[0, :], x, y, mu_slope, sig_slope, mu_intcpt, sig_intcpt, \\\n",
    "                             shape_var_noise, scale_var_noise)\n",
    "    \n",
    "    # MH algorithm\n",
    "    for i in range(n_samples - 1):\n",
    "        \n",
    "        # propose new point in parameter space\n",
    "        proposal = npr.multivariate_normal(samples[i, :], prop_cov)\n",
    "        \n",
    "        # calculate acceptance probability:\n",
    "        ln_post_prop = ln_post_nv(proposal, x, y, mu_slope, sig_slope, mu_intcpt, sig_intcpt, \\\n",
    "                                  shape_var_noise, scale_var_noise)\n",
    "        ratio = np.exp(ln_post_prop - ln_posts[i])\n",
    "        \n",
    "        # accept or reject?\n",
    "        if ratio >= npr.rand():\n",
    "            samples[i + 1, :] = proposal\n",
    "            ln_posts[i + 1] = ln_post_prop\n",
    "        else:\n",
    "            samples[i + 1, :] = samples[i, :]\n",
    "            ln_posts[i + 1] = ln_posts[i]\n",
    "    \n",
    "    return samples, ln_posts"
   ]
  },
  {
   "cell_type": "markdown",
   "metadata": {},
   "source": [
    "Now run the sampler for the simulated data. To do so, you'll need to specify a 3x3 proposal covariance that takes into account the fact that the variance is much smaller than the other two parameters and should therefore be sampled with finer steps."
   ]
  },
  {
   "cell_type": "code",
   "execution_count": null,
   "metadata": {},
   "outputs": [],
   "source": [
    "prop_cov = np.diag([0.02, 0.02, 0.002]) ** 2\n",
    "npr.seed(12345)\n",
    "samples, ln_posts = mh_sampler_nv(50000, x, y, mu_slope, sig_slope, mu_intcpt, sig_intcpt, \\\n",
    "                                  shape_var_noise, scale_var_noise, prop_cov)\n",
    "n_burnin = 100\n",
    "final_samples = samples[n_burnin:, :]\n",
    "fig = corner.corner(final_samples, labels=par_names_co, show_titles=True, truths=pars)"
   ]
  },
  {
   "cell_type": "markdown",
   "metadata": {},
   "source": [
    "## More sophisticated MCMC\n",
    "\n",
    "[emcee](https://emcee.readthedocs.io/en/stable/) implements an affine-invariant ensemble sampling algorithm that reduces the tuning needed for efficient exploration of an $N$-dimensional posterior from $\\sim N^2/2$ parameters (i.e., a covariance matrix) to just 2, thereby enabling sampling in larger numbers of dimensions than Metropolis-Hastings. It also has a particularly simple interface, whereby the user only has to specify a function calculating the log-posterior (in exactly the format we've developed above, hooray!), a number of walkers to use and a starting point. Let's plug our problem into emcee."
   ]
  },
  {
   "cell_type": "code",
   "execution_count": null,
   "metadata": {},
   "outputs": [],
   "source": [
    "import emcee\n",
    "n_walkers = 50\n",
    "n_dim = 3\n",
    "\n",
    "init_pos = np.zeros((n_walkers, n_dim))\n",
    "for i in range(n_walkers):\n",
    "    init_pos[i, :] = prior_sample_nv(mu_slope, sig_slope, mu_intcpt, sig_intcpt, shape_var_noise, \\\n",
    "                                     scale_var_noise)\n",
    "args = [x, y, mu_slope, sig_slope, mu_intcpt, sig_intcpt, shape_var_noise, scale_var_noise]\n",
    "sampler = emcee.EnsembleSampler(n_walkers, n_dim, ln_post_nv, args=args)\n",
    "pos, prob, state = sampler.run_mcmc(init_pos, 200)\n",
    "print('* burned in')\n",
    "sampler.reset()\n",
    "pos, prob, state = sampler.run_mcmc(pos, 1000, rstate0=state)\n",
    "print('* sampling complete')"
   ]
  },
  {
   "cell_type": "code",
   "execution_count": null,
   "metadata": {},
   "outputs": [],
   "source": [
    "flat_samples = sampler.flatchain\n",
    "fig = corner.corner(flat_samples, labels=par_names_co, show_titles=True, truths=pars)"
   ]
  },
  {
   "cell_type": "markdown",
   "metadata": {},
   "source": [
    "TODO:\n",
    "\n",
    "comments and explanation for new stuff, esp emcee\n",
    "\n",
    "emcee checks? acceptance frac?\n",
    "\n",
    "reduce number of samples? i guess we still have 50k\n",
    "\n",
    "FLATTEN LIKELIHOOD!!!"
   ]
  },
  {
   "cell_type": "markdown",
   "metadata": {},
   "source": [
    "## A harder problem: errors on measurement positions\n",
    "\n",
    "Move on to the problem in which there is uncertainty in the measurement positions. This a significantly harder inference problem, as we must infer the measurement positions as well as the regression parameters. First, re-write the simulator to generate uncertain measurement positions. Consider a (much!) smaller dataset so as to not overwhelm emcee."
   ]
  },
  {
   "cell_type": "code",
   "execution_count": null,
   "metadata": {},
   "outputs": [],
   "source": [
    "# prior settings\n",
    "n_x = 10\n",
    "mu_x = np.linspace(0.0, 1.0, n_x)\n",
    "sig_x = 0.025\n",
    "sig_noise_x = 0.05\n",
    "\n",
    "# simulation code accounting for uncertainties in measurement positions\n",
    "def lin_proc_noisy_xy(mu_x, sig_x=sig_x, sig_noise_x=sig_noise_x, mu_slope=mu_slope, sig_slope=sig_slope, \\\n",
    "                      mu_intcpt=mu_intcpt, sig_intcpt=sig_intcpt, shape_var_noise=shape_var_noise, \\\n",
    "                      scale_var_noise=scale_var_noise):\n",
    "    \n",
    "    # draw positions from prior\n",
    "    n_x = len(mu_x)\n",
    "    x_true = npr.randn(n_x) * sig_x + mu_x\n",
    "    \n",
    "    # generate observed measurement positions\n",
    "    x_obs = npr.randn(n_x) * sig_noise_x + x_true\n",
    "    \n",
    "    # generate remaining parameters and data\n",
    "    pars, y = lin_proc_noisy_y(x_true, mu_slope, sig_slope, mu_intcpt, sig_intcpt, \\\n",
    "                               shape_var_noise, scale_var_noise)\n",
    "    \n",
    "    return [np.concatenate((x_true, pars)), np.concatenate((x_obs, y))]"
   ]
  },
  {
   "cell_type": "markdown",
   "metadata": {},
   "source": [
    "Generate some data and plot."
   ]
  },
  {
   "cell_type": "code",
   "execution_count": null,
   "metadata": {},
   "outputs": [],
   "source": [
    "pars_nvx, y_nvx = lin_proc_noisy_xy(mu_x)\n",
    "mp.plot(y_nvx[0: n_x], y_nvx[n_x:])\n",
    "mp.xlabel('x')\n",
    "mp.xlabel('y')"
   ]
  },
  {
   "cell_type": "markdown",
   "metadata": {},
   "source": [
    "Now make the changes required for inference with emcee:"
   ]
  },
  {
   "cell_type": "code",
   "execution_count": null,
   "metadata": {},
   "outputs": [],
   "source": [
    "# again: tag on to what we've already got\n",
    "    \n",
    "# define x_true, x_obs\n",
    "# pass former to y likelihood, latter to x \n",
    "\n",
    "def ln_like_nvx(pars_x, pars_reg, y_x, y_reg, sig_noise_x):\n",
    "    \n",
    "    ln_like_x = -0.5 * np.sum(((pars_x - y_x) / sig_noise_x) ** 2)\n",
    "    \n",
    "    return ln_like_nv(pars_reg, pars_x, y_reg) + ln_like_x\n",
    "\n",
    "def ln_prior_nvx(pars_x, pars_reg, mu_x, sig_x, mu_slope, sig_slope, mu_intcpt, sig_intcpt, \\\n",
    "                 shape_var_noise, scale_var_noise):\n",
    "    \n",
    "    ln_prior_x = -0.5 * np.sum(((pars_x - mu_x) / sig_x) ** 2)\n",
    "    \n",
    "    return ln_prior_nv(pars_reg, mu_slope, sig_slope, mu_intcpt, sig_intcpt, shape_var_noise, scale_var_noise) + \\\n",
    "           ln_prior_x\n",
    "\n",
    "def ln_post_nvx(pars, y, mu_x, sig_x, sig_noise_x, mu_slope, sig_slope, mu_intcpt, sig_intcpt, \\\n",
    "                shape_var_noise, scale_var_noise):\n",
    "    \n",
    "    # split parameters and observations\n",
    "    n_pos = len(mu_x)\n",
    "    pars_x = pars[0: n_pos]\n",
    "    pars_reg = pars[n_pos:]\n",
    "    y_x = y[0: n_pos]\n",
    "    y_reg = y[n_pos:]\n",
    "    if pars_reg[2] <= 0.0:\n",
    "        return -1.0e90\n",
    "    else:\n",
    "        return ln_like_nvx(pars_x, pars_reg, y_x, y_reg, sig_noise_x) + \\\n",
    "               ln_prior_nvx(pars_x, pars_reg, mu_x, sig_x, mu_slope, sig_slope, mu_intcpt, sig_intcpt, \\\n",
    "                            shape_var_noise, scale_var_noise)\n",
    "\n",
    "def prior_sample_nvx(mu_x, sig_x, mu_slope, sig_slope, mu_intcpt, sig_intcpt, shape_var_noise, \\\n",
    "                     scale_var_noise):\n",
    "    \n",
    "    n_x = len(mu_x)\n",
    "    sample = np.zeros(n_x + 3)\n",
    "    sample[0: n_x] = npr.randn(n_x) * sig_x + mu_x\n",
    "    sample[n_x:] = prior_sample_nv(mu_slope, sig_slope, mu_intcpt, sig_intcpt, shape_var_noise, \\\n",
    "                                   scale_var_noise)\n",
    "    \n",
    "    return sample"
   ]
  },
  {
   "cell_type": "markdown",
   "metadata": {},
   "source": [
    "... and see what happens when run on our data!"
   ]
  },
  {
   "cell_type": "code",
   "execution_count": null,
   "metadata": {},
   "outputs": [],
   "source": [
    "n_dim = n_x + 3\n",
    "init_pos = np.zeros((n_walkers, n_dim))\n",
    "for i in range(n_walkers):\n",
    "    init_pos[i, :] = prior_sample_nvx(mu_x, sig_x, mu_slope, sig_slope, mu_intcpt, sig_intcpt, \\\n",
    "                                      shape_var_noise, scale_var_noise)\n",
    "args = [y_nvx, mu_x, sig_x, sig_noise_x, mu_slope, sig_slope, mu_intcpt, sig_intcpt, shape_var_noise, scale_var_noise]\n",
    "sampler = emcee.EnsembleSampler(n_walkers, n_dim, ln_post_nvx, args=args)\n",
    "pos, prob, state = sampler.run_mcmc(init_pos, 200)\n",
    "print('* burned in')\n",
    "sampler.reset()\n",
    "pos, prob, state = sampler.run_mcmc(pos, 1000, rstate0=state)\n",
    "print('* sampling complete')"
   ]
  },
  {
   "cell_type": "code",
   "execution_count": null,
   "metadata": {},
   "outputs": [],
   "source": [
    "par_names_nvx = ['x_{:d}'.format(i) for i in range(n_x)] + par_names\n",
    "par_names_nvx_co = ['$' + par_name + '$' for par_name in par_names_nvx]\n",
    "flat_samples = sampler.flatchain\n",
    "fig = corner.corner(flat_samples, labels=par_names_nvx_co, show_titles=True, truths=pars_nvx)"
   ]
  },
  {
   "cell_type": "code",
   "execution_count": null,
   "metadata": {},
   "outputs": [],
   "source": []
  },
  {
   "cell_type": "markdown",
   "metadata": {},
   "source": [
    "## Task 3B\n",
    "\n",
    "Below I've written the majority of a Gibbs sampler to infer the hyper-parameters of the Cepheid PL relation from our simulated sample. One component is missing: drawing from the conditional distribution of the standard absolute magnitude, $M^*$. Please fill it in, using the results of whiteboard/paper Task 3A. "
   ]
  },
  {
   "cell_type": "code",
   "execution_count": null,
   "metadata": {},
   "outputs": [],
   "source": [
    "def gibbs_sample(n_samples, n_gal, n_star, abs_bar, abs_sig, \\\n",
    "                 s_bar, s_sig, mu_bar, mu_sig, mu_hat_sig, \\\n",
    "                 m_sig_int, m_hat_sig, mu_hat, lp_true, m_hat):\n",
    "    \n",
    "    # storage\n",
    "    abs_samples = np.zeros(n_samples)\n",
    "    s_samples = np.zeros(n_samples)\n",
    "    mu_samples = np.zeros((n_gal, n_samples))\n",
    "    m_samples = np.zeros((n_gal, n_star, n_samples))\n",
    "    \n",
    "    # initialize sampler\n",
    "    abs_samples[0] = abs_bar + npr.randn() * abs_sig\n",
    "    s_samples[0] = s_bar + npr.randn() * s_sig\n",
    "    mu_samples[:, 0] = mu_bar + npr.randn(n_gal) * mu_bar\n",
    "    for i in range(n_gal):\n",
    "        m_samples[i, :, 0] = mu_samples[i, 0] + abs_samples[0] + s_samples[0] * lp_true[i, :]\n",
    "    \n",
    "    # sample!\n",
    "    for i in range(1, n_samples):\n",
    "        \n",
    "        # sample abs mag\n",
    "        abs_sig_pl = m_sig_int / np.sqrt(n_gal * n_star)\n",
    "        abs_bar_pl = 0.0\n",
    "        for j in range(n_gal):\n",
    "            abs_bar_pl += np.sum(m_samples[j, :, i - 1] - mu_samples[j, i - 1] - s_samples[i - 1] * lp_true[j, :])\n",
    "        abs_bar_pl /= (n_gal * n_star)\n",
    "        abs_std = np.sqrt((abs_sig * abs_sig_pl) ** 2 / (abs_sig ** 2 + abs_sig_pl ** 2))\n",
    "        abs_mean = (abs_sig ** 2 * abs_bar_pl + abs_sig_pl ** 2 * abs_bar) / \\\n",
    "                   (abs_sig ** 2 + abs_sig_pl ** 2)\n",
    "        abs_samples[i] = abs_mean + npr.randn() * abs_std\n",
    "        \n",
    "        # sample slope\n",
    "        s_sig_pl = m_sig_int / np.sqrt(np.sum(lp_true ** 2))\n",
    "        s_bar_pl = 0.0\n",
    "        for j in range(n_gal):\n",
    "            s_bar_pl += np.sum((m_samples[j, :, i - 1] - mu_samples[j, i - 1] - abs_samples[i]) * lp_true[j, :])\n",
    "        s_bar_pl /= np.sum(lp_true ** 2)\n",
    "        s_std = np.sqrt((s_sig * s_sig_pl) ** 2 / (s_sig ** 2 + s_sig_pl ** 2))\n",
    "        s_mean = (s_sig ** 2 * s_bar_pl + s_sig_pl ** 2 * s_bar) / \\\n",
    "                 (s_sig ** 2 + s_sig_pl ** 2)\n",
    "        s_samples[i] = s_mean + npr.randn() * s_std\n",
    "        \n",
    "        # sample apparent magnitudes\n",
    "        for j in range(n_gal):\n",
    "            m_mean_pl = mu_samples[j, i - 1] + abs_samples[i] + s_samples[i] * lp_true[j, :]\n",
    "            m_std = np.sqrt(m_sig_int ** 2 * m_hat_sig ** 2 / (m_sig_int ** 2 + m_hat_sig ** 2))\n",
    "            m_mean = (m_sig_int ** 2 * m_hat[j, :] + m_hat_sig ** 2 * m_mean_pl) / (m_sig_int ** 2 + m_hat_sig ** 2)\n",
    "            m_samples[j, :, i] = m_mean + npr.randn(n_star) * m_std\n",
    "            \n",
    "        # sample distance moduli\n",
    "        mu_sig_pl = m_sig_int / np.sqrt(n_star)\n",
    "        mu_bar_pl = np.mean(m_samples[0, :, i] - abs_samples[i] - s_samples[i] * lp_true[0, :])\n",
    "        mu_var = 1.0 / (1.0 / mu_sig ** 2 + 1.0 / mu_hat_sig ** 2 + 1.0 / mu_sig_pl ** 2)\n",
    "        mu_mean = (mu_bar / mu_sig ** 2 + mu_hat / mu_hat_sig ** 2 + mu_bar_pl / mu_sig_pl ** 2) * mu_var\n",
    "        mu_samples[0, i] = mu_mean + npr.randn() * np.sqrt(mu_var)\n",
    "        for j in range(1, n_gal):\n",
    "            mu_sig_pl = m_sig_int / np.sqrt(n_star)\n",
    "            mu_bar_pl = np.mean(m_samples[j, :, i] - abs_samples[i] - s_samples[i] * lp_true[j, :])\n",
    "            mu_std = (mu_sig * mu_sig_pl) ** 2 / (mu_sig ** 2 + mu_sig_pl ** 2)\n",
    "            mu_mean = (mu_sig ** 2 * mu_bar_pl + mu_sig_pl ** 2 * mu_bar) / \\\n",
    "                      (mu_sig ** 2 + mu_sig_pl ** 2)\n",
    "            mu_samples[j, i] = mu_mean + npr.randn() * mu_std\n",
    "        \n",
    "    return (abs_samples, s_samples, mu_samples, m_samples)"
   ]
  },
  {
   "cell_type": "markdown",
   "metadata": {},
   "source": [
    "Now let's sample, setting aside the first half of the samples as warmup."
   ]
  },
  {
   "cell_type": "code",
   "execution_count": null,
   "metadata": {},
   "outputs": [],
   "source": [
    "all_samples = gibbs_sample(n_samples, n_gal, n_star, abs_bar, abs_sig, \\\n",
    "                           s_bar, s_sig, mu_bar, mu_sig, mu_hat_sig, \\\n",
    "                           m_sig_int, m_hat_sig, mu_hat, lp_true, m_hat)\n",
    "n_warmup = int(n_samples / 2)\n",
    "g_samples = [samples[n_warmup:] for samples in all_samples]"
   ]
  },
  {
   "cell_type": "markdown",
   "metadata": {},
   "source": [
    "Let's make sure that the absolute magnitude is being inferred as expected. First, generate a trace plot of the absolute magnitude samples (the first entry in `g_samples`), overlaying the ground truth. Then print out the mean and standard deviation of the marginalized absolute magnitude posterior. Recall that marginalizing is as simple as throwing away the samples of all other parameters."
   ]
  },
  {
   "cell_type": "code",
   "execution_count": null,
   "metadata": {},
   "outputs": [],
   "source": [
    "mp.plot(g_samples[0])\n",
    "mp.axhline(abs_true)\n",
    "mp.xlabel('sample')\n",
    "mp.ylabel(r'$M^*$')\n",
    "print('Truth {:6.2f}; inferred {:6.2f} +/- {:4.2f}'.format(abs_true, np.mean(g_samples[0]), np.std(g_samples[0])))"
   ]
  },
  {
   "cell_type": "markdown",
   "metadata": {},
   "source": [
    "Now let's generate some marginalized parameter posteriors (by simply discarding all samples of the latent parameters) using DFM's [`corner`](https://corner.readthedocs.io/en/latest/) package. Note the near identical nature of this plot to the `schmorner` plot we generated above."
   ]
  },
  {
   "cell_type": "code",
   "execution_count": null,
   "metadata": {},
   "outputs": [],
   "source": [
    "import corner\n",
    "samples = np.stack((g_samples[0], g_samples[1]))\n",
    "fig = corner.corner(samples.T, labels=[r\"$M^*$\", r\"$s$\"],\n",
    "                    show_titles=True, truths=[abs_true, s_true])"
   ]
  },
  {
   "cell_type": "markdown",
   "metadata": {},
   "source": [
    "## Task 4\n",
    "\n",
    "The final task is to write a [Stan model](https://pystan.readthedocs.io/en/latest/getting_started.html) to infer the parameters of the period-luminosity relation. I've coded up the other two blocks required (`data` and `parameters`), so all that is required is for you to write the joint posterior (factorized into its individual components) in Stan's sampling-statement-based syntax. Essentially all you need are Gaussian sampling statements (`abs_true ~ normal(abs_bar, abs_sig);`) and for loops (`for(i in 1: n_gal){...}`).\n",
    "\n",
    "When you evaluate this cell, Stan will translate your model into `c++` code and compile it. We will then pickle the compiled model so you can re-use it rapidly without recompiling. To do so, please set `recompile = False` in the notebook."
   ]
  },
  {
   "cell_type": "code",
   "execution_count": null,
   "metadata": {},
   "outputs": [],
   "source": [
    "import sys\n",
    "import pystan as ps\n",
    "import pickle\n",
    "\n",
    "stan_code = \"\"\"\n",
    "data {\n",
    "    int<lower=0> n_gal;\n",
    "    int<lower=0> n_star;\n",
    "    real mu_hat;\n",
    "    real mu_hat_sig;\n",
    "    real m_hat[n_gal, n_star];\n",
    "    real m_hat_sig;\n",
    "    real m_sig_int;\n",
    "    real lp_true[n_gal, n_star];\n",
    "    real abs_bar;\n",
    "    real abs_sig;\n",
    "    real s_bar;\n",
    "    real s_sig;\n",
    "    real mu_bar;\n",
    "    real mu_sig;\n",
    "}\n",
    "parameters {\n",
    "    real mu_true[n_gal];\n",
    "    real m_true[n_gal, n_star];\n",
    "    real abs_true;\n",
    "    real s_true;\n",
    "}\n",
    "model {\n",
    "    // priors\n",
    "    abs_true ~ normal(abs_bar, abs_sig);\n",
    "    s_true ~ normal(s_bar, s_sig);\n",
    "    mu_true ~ normal(mu_bar, mu_sig);\n",
    "    \n",
    "    // whatevers\n",
    "    for(i in 1: n_gal){\n",
    "        for(j in 1: n_star){\n",
    "            m_true[i, j] ~ normal(mu_true[i] + abs_true + s_true * lp_true[i, j], m_sig_int);\n",
    "        }\n",
    "    }\n",
    "    \n",
    "    // likelihoods\n",
    "    mu_hat ~ normal(mu_true[1], mu_hat_sig);\n",
    "    for(i in 1: n_gal){\n",
    "        for(j in 1: n_star){\n",
    "            m_hat[i, j] ~ normal(m_true[i, j], m_hat_sig);\n",
    "        }\n",
    "    }\n",
    "}\n",
    "\"\"\"\n",
    "n_samples_stan = 5000\n",
    "recompile = False\n",
    "pkl_fname = 'bhms_stan_model_v{:d}p{:d}p{:d}.pkl'.format(sys.version_info[0], \\\n",
    "                                                         sys.version_info[1], \\\n",
    "                                                         sys.version_info[2])\n",
    "if recompile:\n",
    "    stan_model = ps.StanModel(model_code=stan_code)\n",
    "    with open(pkl_fname, 'wb') as f:\n",
    "        pickle.dump(stan_model, f)\n",
    "else:\n",
    "    try:\n",
    "        with open(pkl_fname, 'rb') as f:\n",
    "            stan_model = pickle.load(f)\n",
    "    except EnvironmentError:\n",
    "        print('ERROR: pickled Stan model (' + pkl_fname + ') not found. ' + \\\n",
    "              'Please set recompile = True')"
   ]
  },
  {
   "cell_type": "markdown",
   "metadata": {},
   "source": [
    "Now let's sample..."
   ]
  },
  {
   "cell_type": "code",
   "execution_count": null,
   "metadata": {},
   "outputs": [],
   "source": [
    "stan_data = {'n_gal': n_gal, 'n_star': n_star, 'mu_hat': mu_hat, 'mu_hat_sig': mu_hat_sig, \\\n",
    "             'm_hat': m_hat, 'm_hat_sig': m_hat_sig, 'm_sig_int': m_sig_int, 'lp_true': lp_true, \\\n",
    "             'abs_bar': abs_bar, 'abs_sig': abs_sig, 's_bar': s_bar, 's_sig': s_sig, \\\n",
    "             'mu_bar': mu_bar, 'mu_sig': mu_sig}\n",
    "fit = stan_model.sampling(data=stan_data, iter=n_samples_stan, chains=4)"
   ]
  },
  {
   "cell_type": "markdown",
   "metadata": {},
   "source": [
    "... print out Stan's posterior summary (note this is for _all_ parameters)..."
   ]
  },
  {
   "cell_type": "code",
   "execution_count": null,
   "metadata": {},
   "outputs": [],
   "source": [
    "samples = fit.extract(permuted=True)\n",
    "print(fit)"
   ]
  },
  {
   "cell_type": "markdown",
   "metadata": {},
   "source": [
    "... and plot the marginalized posterior of the PL parameters, as with the Gibbs sampler."
   ]
  },
  {
   "cell_type": "code",
   "execution_count": null,
   "metadata": {},
   "outputs": [],
   "source": [
    "c_samples = np.stack((samples['abs_true'], samples['s_true']))\n",
    "fig = corner.corner(c_samples.T, labels=[r\"$M^*$\", r\"$s$\"],\n",
    "                    show_titles=True, truths=[abs_true, s_true])"
   ]
  },
  {
   "cell_type": "markdown",
   "metadata": {},
   "source": [
    "Our work here is done!"
   ]
  },
  {
   "cell_type": "code",
   "execution_count": null,
   "metadata": {},
   "outputs": [],
   "source": []
  }
 ],
 "metadata": {
  "kernelspec": {
   "display_name": "Python 3",
   "language": "python",
   "name": "python3"
  },
  "language_info": {
   "codemirror_mode": {
    "name": "ipython",
    "version": 3
   },
   "file_extension": ".py",
   "mimetype": "text/x-python",
   "name": "python",
   "nbconvert_exporter": "python",
   "pygments_lexer": "ipython3",
   "version": "3.6.8"
  }
 },
 "nbformat": 4,
 "nbformat_minor": 2
}
